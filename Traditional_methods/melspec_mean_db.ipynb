{
 "cells": [
  {
   "cell_type": "code",
   "execution_count": 1,
   "metadata": {},
   "outputs": [
    {
     "name": "stderr",
     "output_type": "stream",
     "text": [
      "/home/wew016/.local/lib/python3.7/site-packages/librosa/util/decorators.py:9: NumbaDeprecationWarning: An import was requested from a module that has moved location.\n",
      "Import requested from: 'numba.decorators', please update to use 'numba.core.decorators' or pin to Numba version 0.48.0. This alias will not be present in Numba version 0.50.0.\n",
      "  from numba.decorators import jit as optional_jit\n",
      "/home/wew016/.local/lib/python3.7/site-packages/librosa/util/decorators.py:9: NumbaDeprecationWarning: An import was requested from a module that has moved location.\n",
      "Import of 'jit' requested from: 'numba.decorators', please update to use 'numba.core.decorators' or pin to Numba version 0.48.0. This alias will not be present in Numba version 0.50.0.\n",
      "  from numba.decorators import jit as optional_jit\n"
     ]
    }
   ],
   "source": [
    "import os\n",
    "import torch\n",
    "import librosa\n",
    "\n",
    "import numpy as np\n",
    "import matplotlib.pyplot as plt\n",
    "%matplotlib inline\n",
    "\n",
    "from datasets import AudioDataset\n",
    "\n",
    "import sklearn.metrics as met\n",
    "# hyper parameters\n",
    "MAX_EPOCH = 100"
   ]
  },
  {
   "cell_type": "code",
   "execution_count": 2,
   "metadata": {},
   "outputs": [],
   "source": [
    "# path to urban sound 8k\n",
    "data_root = \"/home/wew016/UrbanSound8K/\"\n",
    "# path to label\n",
    "label_path = \"/home/wew016/UrbanSound8K/metadata/UrbanSound8K.csv\"        "
   ]
  },
  {
   "cell_type": "code",
   "execution_count": 3,
   "metadata": {},
   "outputs": [
    {
     "name": "stdout",
     "output_type": "stream",
     "text": [
      "verify mel_mean_db feature success\n"
     ]
    }
   ],
   "source": [
    "# initialize dataset (feature can be \"mfcc\" or \"spec\")\n",
    "audio_dataset = AudioDataset(10, DataRoot=data_root, LabelPath=label_path, feature=\"mel_mean_db\", mode=\"train\")"
   ]
  },
  {
   "cell_type": "code",
   "execution_count": 4,
   "metadata": {},
   "outputs": [
    {
     "name": "stdout",
     "output_type": "stream",
     "text": [
      "torch.Size([7895, 128])\n",
      "torch.Size([7895])\n"
     ]
    }
   ],
   "source": [
    "# initialize dataloader\n",
    "data_loader = torch.utils.data.DataLoader(audio_dataset, batch_size=len(audio_dataset), shuffle=True, num_workers=1)\n",
    "\n",
    "for idx, data in enumerate(data_loader):\n",
    "        x_train, y_train = data\n",
    "        print(x_train.shape)\n",
    "        print(y_train.shape) "
   ]
  },
  {
   "cell_type": "code",
   "execution_count": 5,
   "metadata": {},
   "outputs": [
    {
     "data": {
      "text/plain": [
       "(7895, 128)"
      ]
     },
     "execution_count": 5,
     "metadata": {},
     "output_type": "execute_result"
    }
   ],
   "source": [
    "x_train=x_train.numpy()\n",
    "x_train.shape"
   ]
  },
  {
   "cell_type": "code",
   "execution_count": 6,
   "metadata": {},
   "outputs": [
    {
     "data": {
      "text/plain": [
       "(7895,)"
      ]
     },
     "execution_count": 6,
     "metadata": {},
     "output_type": "execute_result"
    }
   ],
   "source": [
    "y_train=y_train.numpy()\n",
    "y_train.shape"
   ]
  },
  {
   "cell_type": "code",
   "execution_count": 7,
   "metadata": {},
   "outputs": [
    {
     "name": "stdout",
     "output_type": "stream",
     "text": [
      "verify mel_mean_db feature success\n"
     ]
    }
   ],
   "source": [
    "audio_dataset_test = AudioDataset(10, DataRoot=data_root, LabelPath=label_path, feature=\"mel_mean_db\", mode=\"test\")"
   ]
  },
  {
   "cell_type": "code",
   "execution_count": 8,
   "metadata": {},
   "outputs": [
    {
     "name": "stdout",
     "output_type": "stream",
     "text": [
      "torch.Size([837, 128])\n",
      "torch.Size([837])\n"
     ]
    }
   ],
   "source": [
    "# initialize dataloader\n",
    "data_loader_test = torch.utils.data.DataLoader(audio_dataset_test, batch_size=len(audio_dataset_test), shuffle=True, num_workers=1)\n",
    "\n",
    "for idx, data in enumerate(data_loader_test):\n",
    "        x_test, y_test = data\n",
    "        print(x_test.shape)\n",
    "        print(y_test.shape)    "
   ]
  },
  {
   "cell_type": "code",
   "execution_count": 9,
   "metadata": {},
   "outputs": [
    {
     "data": {
      "text/plain": [
       "(837, 128)"
      ]
     },
     "execution_count": 9,
     "metadata": {},
     "output_type": "execute_result"
    }
   ],
   "source": [
    "x_test=x_test.numpy()\n",
    "x_test.shape"
   ]
  },
  {
   "cell_type": "code",
   "execution_count": 10,
   "metadata": {},
   "outputs": [
    {
     "data": {
      "text/plain": [
       "(837,)"
      ]
     },
     "execution_count": 10,
     "metadata": {},
     "output_type": "execute_result"
    }
   ],
   "source": [
    "y_test=y_test.numpy()\n",
    "y_test.shape"
   ]
  },
  {
   "cell_type": "markdown",
   "metadata": {},
   "source": [
    "<font color=red size=5>\n",
    "XGBOOST Model\n",
    "</font>"
   ]
  },
  {
   "cell_type": "code",
   "execution_count": 11,
   "metadata": {},
   "outputs": [],
   "source": [
    "from xgboost import XGBClassifier"
   ]
  },
  {
   "cell_type": "code",
   "execution_count": 12,
   "metadata": {},
   "outputs": [],
   "source": [
    "model_xgboost = XGBClassifier(learning_rate =0.2, \n",
    "                      n_estimators=150, \n",
    "                      max_depth=4,\n",
    "                      num_class=10,    \n",
    "                      min_child_weight=5, \n",
    "                      gamma=0.1, \n",
    "                      subsample=0.5, \n",
    "                      colsample_bytree=0.5,\n",
    "                      objective='multi:softmax', \n",
    "                      seed=50)"
   ]
  },
  {
   "cell_type": "code",
   "execution_count": 13,
   "metadata": {},
   "outputs": [
    {
     "data": {
      "text/plain": [
       "XGBClassifier(base_score=0.5, booster='gbtree', colsample_bylevel=1,\n",
       "              colsample_bynode=1, colsample_bytree=0.5, gamma=0.1, gpu_id=-1,\n",
       "              importance_type='gain', interaction_constraints='',\n",
       "              learning_rate=0.2, max_delta_step=0, max_depth=4,\n",
       "              min_child_weight=5, missing=nan, monotone_constraints='()',\n",
       "              n_estimators=150, n_jobs=0, num_class=10, num_parallel_tree=1,\n",
       "              objective='multi:softprob', random_state=50, reg_alpha=0,\n",
       "              reg_lambda=1, scale_pos_weight=None, seed=50, subsample=0.5,\n",
       "              tree_method='exact', validate_parameters=1, verbosity=None)"
      ]
     },
     "execution_count": 13,
     "metadata": {},
     "output_type": "execute_result"
    }
   ],
   "source": [
    "model_xgboost.fit(x_train,y_train)"
   ]
  },
  {
   "cell_type": "code",
   "execution_count": 14,
   "metadata": {},
   "outputs": [
    {
     "data": {
      "text/plain": [
       "0.9911336288790373"
      ]
     },
     "execution_count": 14,
     "metadata": {},
     "output_type": "execute_result"
    }
   ],
   "source": [
    "pred_train_xgboost = model_xgboost.predict(x_train)\n",
    "met.accuracy_score(y_train,pred_train_xgboost)"
   ]
  },
  {
   "cell_type": "code",
   "execution_count": 15,
   "metadata": {},
   "outputs": [],
   "source": [
    "pred_test_xgboost = model_xgboost.predict(x_test)"
   ]
  },
  {
   "cell_type": "code",
   "execution_count": 16,
   "metadata": {},
   "outputs": [
    {
     "data": {
      "text/plain": [
       "array([8, 5, 5, 2, 3, 3, 1, 0, 4, 5, 9, 3, 9, 2, 7, 7, 3, 3, 8, 6, 4, 7,\n",
       "       1, 9, 3, 3, 8, 5, 4, 2, 3, 0, 7, 7, 0, 3, 7, 1, 7, 9, 8, 9, 3, 7,\n",
       "       7, 4, 2, 9, 8, 8, 7, 4, 8, 5, 7, 4, 0, 5, 9, 2, 4, 3, 6, 4, 3, 5,\n",
       "       7, 9, 1, 4, 2, 3, 4, 2, 2, 7, 3, 3, 9, 8, 7, 2, 4, 6, 4, 0, 0, 3,\n",
       "       7, 3, 9, 8, 3, 8, 4, 5, 5, 8, 5, 4, 8, 9, 5, 2, 7, 3, 7, 0, 4, 0,\n",
       "       8, 8, 9, 3, 5, 5, 2, 2, 4, 5, 2, 2, 3, 9, 7, 7, 0, 4, 4, 4, 3, 5,\n",
       "       0, 0, 9, 2, 3, 7, 1, 5, 5, 5, 4, 5, 3, 3, 3, 4, 7, 6, 4, 3, 0, 7,\n",
       "       8, 0, 1, 3, 0, 7, 5, 5, 4, 8, 7, 1, 4, 6, 4, 1, 3, 9, 8, 8, 3, 5,\n",
       "       2, 2, 7, 9, 5, 2, 0, 1, 2, 5, 0, 4, 7, 0, 4, 0, 8, 4, 9, 7, 9, 2,\n",
       "       5, 7, 5, 9, 0, 5, 9, 2, 0, 7, 0, 0, 9, 6, 7, 0, 8, 7, 6, 2, 9, 5,\n",
       "       4, 3, 2, 2, 2, 4, 8, 0, 5, 3, 5, 1, 7, 8, 3, 3, 2, 2, 9, 3, 0, 4,\n",
       "       2, 5, 0, 4, 4, 9, 5, 7, 7, 2, 2, 2, 0, 5, 4, 8, 8, 4, 7, 3, 4, 9,\n",
       "       4, 9, 8, 4, 0, 8, 0, 7, 8, 0, 3, 3, 6, 5, 9, 5, 9, 0, 2, 7, 7, 2,\n",
       "       7, 9, 0, 3, 9, 7, 7, 3, 5, 2, 7, 2, 4, 7, 2, 0, 9, 4, 0, 5, 4, 5,\n",
       "       0, 2, 6, 0, 8, 4, 4, 0, 9, 4, 5, 8, 5, 1, 2, 8, 2, 9, 9, 0, 6, 4,\n",
       "       4, 3, 0, 4, 3, 2, 2, 0, 9, 3, 0, 8, 1, 9, 2, 8, 5, 3, 3, 3, 4, 3,\n",
       "       8, 4, 7, 8, 4, 0, 3, 0, 7, 6, 7, 4, 4, 2, 3, 4, 2, 2, 5, 3, 4, 9,\n",
       "       7, 3, 5, 0, 4, 3, 8, 8, 9, 8, 3, 4, 7, 0, 2, 0, 3, 5, 7, 9, 6, 4,\n",
       "       3, 9, 8, 9, 2, 4, 7, 7, 7, 8, 4, 7, 9, 2, 9, 7, 3, 8, 0, 3, 3, 5,\n",
       "       2, 5, 3, 0, 5, 2, 8, 9, 2, 7, 5, 6, 8, 2, 1, 5, 0, 3, 4, 7, 4, 7,\n",
       "       9, 5, 5, 7, 7, 2, 4, 5, 8, 7, 8, 8, 4, 0, 9, 4, 0, 7, 2, 5, 9, 4,\n",
       "       5, 8, 7, 2, 0, 3, 8, 4, 2, 3, 3, 2, 2, 2, 2, 2, 5, 6, 1, 2, 8, 3,\n",
       "       3, 9, 9, 5, 0, 2, 5, 9, 4, 4, 5, 8, 2, 9, 4, 3, 1, 7, 7, 9, 9, 1,\n",
       "       9, 7, 9, 7, 9, 9, 0, 3, 3, 9, 9, 0, 2, 1, 0, 9, 7, 5, 6, 3, 0, 3,\n",
       "       5, 2, 7, 2, 4, 0, 3, 5, 8, 0, 8, 3, 8, 2, 3, 8, 4, 8, 9, 2, 9, 2,\n",
       "       9, 3, 3, 7, 8, 8, 5, 6, 6, 0, 9, 6, 4, 1, 5, 0, 5, 9, 1, 9, 4, 5,\n",
       "       2, 4, 0, 7, 5, 8, 8, 2, 6, 3, 2, 8, 7, 9, 5, 8, 7, 2, 4, 2, 7, 3,\n",
       "       0, 4, 9, 8, 4, 9, 2, 9, 5, 2, 9, 2, 7, 7, 4, 8, 5, 9, 5, 5, 3, 9,\n",
       "       2, 9, 9, 9, 2, 7, 3, 5, 4, 9, 3, 2, 1, 8, 8, 0, 3, 5, 7, 4, 2, 1,\n",
       "       7, 0, 5, 6, 5, 3, 6, 7, 0, 4, 9, 0, 0, 6, 9, 0, 7, 5, 6, 4, 2, 7,\n",
       "       6, 4, 0, 8, 8, 5, 4, 9, 3, 7, 6, 3, 4, 1, 3, 7, 1, 4, 1, 7, 4, 2,\n",
       "       0, 2, 2, 1, 0, 0, 8, 3, 4, 8, 0, 4, 1, 9, 9, 5, 9, 5, 7, 7, 5, 9,\n",
       "       8, 2, 5, 0, 3, 8, 3, 1, 3, 4, 7, 0, 8, 0, 4, 2, 7, 2, 9, 0, 8, 4,\n",
       "       9, 4, 0, 0, 4, 6, 8, 1, 9, 0, 7, 9, 7, 5, 0, 9, 9, 2, 2, 7, 3, 5,\n",
       "       3, 3, 0, 0, 4, 9, 7, 0, 0, 5, 3, 7, 6, 8, 1, 9, 4, 6, 2, 0, 2, 0,\n",
       "       0, 9, 7, 1, 9, 0, 9, 9, 5, 6, 9, 8, 0, 8, 3, 5, 4, 4, 1, 5, 0, 5,\n",
       "       2, 7, 0, 0, 6, 2, 6, 0, 2, 2, 3, 1, 0, 0, 3, 8, 2, 0, 5, 8, 5, 4,\n",
       "       5, 8, 8, 3, 3, 3, 6, 9, 3, 9, 9, 8, 8, 5, 8, 2, 5, 7, 0, 1, 0, 2,\n",
       "       4])"
      ]
     },
     "execution_count": 16,
     "metadata": {},
     "output_type": "execute_result"
    }
   ],
   "source": [
    "y_test"
   ]
  },
  {
   "cell_type": "code",
   "execution_count": 17,
   "metadata": {},
   "outputs": [
    {
     "data": {
      "text/plain": [
       "array([8, 5, 3, 2, 3, 3, 1, 0, 4, 5, 1, 3, 9, 3, 2, 7, 3, 3, 0, 3, 4, 4,\n",
       "       1, 9, 4, 8, 0, 3, 4, 9, 3, 0, 4, 4, 0, 3, 4, 1, 4, 2, 8, 9, 4, 4,\n",
       "       4, 7, 2, 9, 0, 8, 7, 4, 2, 0, 7, 5, 2, 5, 9, 2, 5, 7, 6, 7, 2, 5,\n",
       "       4, 4, 1, 4, 2, 3, 7, 2, 2, 7, 3, 3, 9, 1, 2, 8, 8, 8, 4, 7, 2, 2,\n",
       "       7, 3, 6, 9, 3, 5, 7, 2, 9, 2, 5, 4, 9, 9, 5, 2, 7, 3, 4, 0, 4, 0,\n",
       "       2, 4, 2, 3, 5, 7, 2, 3, 4, 2, 9, 2, 3, 2, 7, 7, 0, 4, 4, 8, 3, 5,\n",
       "       0, 0, 2, 2, 3, 7, 1, 5, 2, 5, 8, 5, 3, 9, 5, 7, 7, 3, 4, 3, 7, 7,\n",
       "       8, 0, 1, 3, 0, 4, 5, 3, 4, 2, 7, 1, 7, 9, 4, 1, 2, 2, 3, 8, 3, 5,\n",
       "       2, 2, 7, 9, 2, 2, 0, 1, 2, 5, 0, 4, 7, 0, 7, 0, 9, 4, 1, 4, 9, 2,\n",
       "       5, 7, 9, 9, 7, 5, 9, 2, 0, 4, 0, 0, 9, 6, 4, 0, 8, 7, 6, 2, 9, 2,\n",
       "       4, 3, 2, 8, 8, 2, 2, 0, 5, 3, 5, 1, 7, 8, 3, 2, 2, 2, 4, 3, 9, 4,\n",
       "       9, 5, 3, 7, 4, 9, 5, 4, 2, 2, 9, 3, 7, 5, 4, 9, 8, 8, 4, 3, 7, 9,\n",
       "       9, 2, 8, 4, 7, 2, 2, 4, 8, 2, 3, 9, 3, 1, 2, 5, 9, 0, 2, 4, 4, 2,\n",
       "       4, 8, 7, 4, 9, 4, 4, 3, 5, 8, 7, 3, 0, 7, 2, 2, 9, 7, 0, 5, 4, 7,\n",
       "       0, 8, 6, 2, 2, 7, 7, 0, 4, 7, 2, 8, 9, 1, 5, 8, 2, 9, 0, 0, 6, 2,\n",
       "       7, 3, 8, 4, 9, 3, 3, 0, 9, 3, 7, 8, 9, 9, 2, 8, 2, 3, 3, 3, 7, 5,\n",
       "       8, 4, 4, 9, 4, 0, 4, 0, 4, 6, 4, 4, 2, 2, 3, 4, 5, 2, 5, 3, 7, 9,\n",
       "       4, 3, 7, 0, 4, 3, 8, 9, 9, 3, 2, 3, 7, 0, 9, 0, 4, 9, 4, 9, 2, 4,\n",
       "       9, 2, 8, 2, 9, 7, 4, 7, 7, 8, 7, 0, 9, 2, 9, 7, 3, 8, 2, 9, 7, 5,\n",
       "       2, 2, 6, 2, 5, 3, 2, 9, 6, 7, 2, 2, 2, 3, 2, 5, 0, 3, 3, 4, 7, 7,\n",
       "       9, 2, 5, 4, 7, 2, 2, 5, 9, 4, 3, 2, 4, 7, 9, 4, 0, 7, 2, 5, 9, 7,\n",
       "       2, 2, 2, 2, 0, 3, 2, 4, 2, 3, 3, 9, 2, 2, 2, 3, 5, 2, 1, 2, 8, 3,\n",
       "       3, 9, 9, 9, 9, 2, 7, 2, 5, 7, 5, 8, 8, 9, 4, 2, 1, 4, 4, 2, 2, 9,\n",
       "       9, 7, 9, 7, 9, 9, 0, 3, 3, 4, 9, 7, 2, 1, 7, 9, 4, 3, 6, 7, 0, 8,\n",
       "       5, 2, 7, 2, 4, 0, 3, 5, 8, 0, 7, 2, 9, 2, 3, 2, 4, 8, 9, 2, 9, 2,\n",
       "       9, 5, 3, 4, 8, 0, 5, 3, 6, 9, 2, 6, 2, 1, 2, 0, 5, 9, 1, 9, 8, 5,\n",
       "       2, 4, 0, 7, 5, 8, 2, 2, 3, 3, 2, 8, 7, 9, 2, 8, 4, 3, 4, 2, 7, 3,\n",
       "       0, 4, 9, 8, 8, 9, 3, 3, 5, 2, 9, 2, 7, 0, 3, 8, 5, 3, 5, 5, 3, 2,\n",
       "       2, 9, 4, 9, 2, 4, 3, 5, 7, 9, 3, 2, 1, 9, 9, 2, 2, 5, 4, 5, 9, 2,\n",
       "       7, 0, 3, 6, 5, 3, 2, 7, 2, 4, 8, 2, 0, 2, 9, 0, 4, 3, 8, 4, 9, 0,\n",
       "       3, 7, 0, 8, 2, 9, 9, 9, 3, 4, 6, 9, 4, 1, 3, 7, 9, 4, 1, 7, 7, 2,\n",
       "       0, 3, 3, 1, 0, 2, 8, 9, 4, 8, 2, 4, 6, 9, 9, 5, 9, 3, 2, 7, 5, 9,\n",
       "       9, 2, 5, 7, 3, 8, 3, 9, 3, 4, 7, 2, 3, 2, 4, 9, 4, 2, 9, 0, 2, 4,\n",
       "       9, 4, 2, 0, 3, 6, 9, 1, 2, 2, 7, 8, 4, 9, 0, 0, 9, 2, 2, 7, 3, 5,\n",
       "       9, 3, 2, 0, 4, 9, 4, 0, 0, 7, 2, 4, 2, 8, 1, 9, 7, 6, 8, 0, 2, 0,\n",
       "       0, 2, 7, 0, 2, 9, 9, 9, 9, 3, 9, 8, 0, 3, 3, 4, 2, 4, 1, 5, 2, 4,\n",
       "       3, 4, 0, 2, 6, 2, 6, 0, 2, 3, 2, 1, 0, 2, 9, 9, 2, 7, 2, 2, 2, 5,\n",
       "       9, 9, 9, 3, 3, 2, 6, 9, 3, 9, 9, 8, 3, 5, 2, 8, 5, 2, 9, 7, 7, 2,\n",
       "       7])"
      ]
     },
     "execution_count": 17,
     "metadata": {},
     "output_type": "execute_result"
    }
   ],
   "source": [
    "pred_test_xgboost"
   ]
  },
  {
   "cell_type": "code",
   "execution_count": 18,
   "metadata": {},
   "outputs": [
    {
     "data": {
      "text/plain": [
       "0.5722819593787336"
      ]
     },
     "execution_count": 18,
     "metadata": {},
     "output_type": "execute_result"
    }
   ],
   "source": [
    "met.accuracy_score(y_test,pred_test_xgboost)"
   ]
  },
  {
   "cell_type": "code",
   "execution_count": 19,
   "metadata": {},
   "outputs": [
    {
     "data": {
      "text/plain": [
       "array([[59,  0, 21,  1,  0,  0,  0, 13,  1,  5],\n",
       "       [ 1, 24,  2,  0,  0,  0,  1,  1,  0,  4],\n",
       "       [ 0,  0, 64, 15,  0,  2,  1,  0,  8, 10],\n",
       "       [ 0,  0, 11, 66,  5,  3,  1,  3,  2,  9],\n",
       "       [ 1,  0,  6,  4, 50,  5,  0, 26,  6,  2],\n",
       "       [ 1,  1, 15,  7,  2, 53,  0,  5,  0,  9],\n",
       "       [ 0,  0,  6,  7,  0,  0, 16,  0,  2,  1],\n",
       "       [ 3,  0,  6,  0, 44,  0,  0, 43,  0,  0],\n",
       "       [ 4,  1, 18,  6,  1,  1,  0,  1, 36, 15],\n",
       "       [ 2,  2, 17,  2,  5,  0,  1,  0,  3, 68]])"
      ]
     },
     "execution_count": 19,
     "metadata": {},
     "output_type": "execute_result"
    }
   ],
   "source": [
    "met.confusion_matrix(y_test,pred_test_xgboost)"
   ]
  },
  {
   "cell_type": "markdown",
   "metadata": {},
   "source": [
    "<font color=red size=5>\n",
    "SVM Model\n",
    "</font>"
   ]
  },
  {
   "cell_type": "code",
   "execution_count": 20,
   "metadata": {},
   "outputs": [],
   "source": [
    "import sklearn\n",
    "from sklearn.svm import SVC\n",
    "from sklearn.model_selection import GridSearchCV"
   ]
  },
  {
   "cell_type": "code",
   "execution_count": 21,
   "metadata": {},
   "outputs": [],
   "source": [
    "import warnings\n",
    "warnings.filterwarnings('ignore')"
   ]
  },
  {
   "cell_type": "code",
   "execution_count": null,
   "metadata": {},
   "outputs": [],
   "source": [
    "svr = SVC()\n",
    "parameters = {'kernel':('linear', 'rbf'), 'C':[1, 2, 4], 'gamma':[0.125, 0.25, 0.5 ,1, 2, 4]}\n",
    "clf = GridSearchCV(svr, parameters, scoring='f1_samples')\n",
    "clf.fit(x_train, y_train)\n",
    "print('The parameters of the best model are: ')\n",
    "print(clf.best_params_)"
   ]
  },
  {
   "cell_type": "code",
   "execution_count": 22,
   "metadata": {},
   "outputs": [],
   "source": [
    "model_svm = sklearn.svm.SVC(C=0.75, \n",
    "                            kernel='rbf', \n",
    "                            degree=3, \n",
    "                            gamma='auto', \n",
    "                            coef0=0.0, \n",
    "                            shrinking=True, \n",
    "                            probability=False, \n",
    "                            tol=0.001, \n",
    "                            cache_size=200, \n",
    "                            class_weight=None, \n",
    "                            verbose=False, \n",
    "                            max_iter=-1, \n",
    "                            decision_function_shape=None, \n",
    "                            random_state=None)"
   ]
  },
  {
   "cell_type": "code",
   "execution_count": 23,
   "metadata": {},
   "outputs": [
    {
     "data": {
      "text/plain": [
       "SVC(C=0.75, cache_size=200, class_weight=None, coef0=0.0,\n",
       "    decision_function_shape=None, degree=3, gamma='auto', kernel='rbf',\n",
       "    max_iter=-1, probability=False, random_state=None, shrinking=True,\n",
       "    tol=0.001, verbose=False)"
      ]
     },
     "execution_count": 23,
     "metadata": {},
     "output_type": "execute_result"
    }
   ],
   "source": [
    "model_svm.fit(x_train,y_train)"
   ]
  },
  {
   "cell_type": "code",
   "execution_count": 24,
   "metadata": {},
   "outputs": [
    {
     "data": {
      "text/plain": [
       "0.9982267257758075"
      ]
     },
     "execution_count": 24,
     "metadata": {},
     "output_type": "execute_result"
    }
   ],
   "source": [
    "pred_train_svm = model_svm.predict(x_train)\n",
    "met.accuracy_score(y_train,pred_train_svm)"
   ]
  },
  {
   "cell_type": "code",
   "execution_count": 25,
   "metadata": {},
   "outputs": [
    {
     "data": {
      "text/plain": [
       "0.15292712066905614"
      ]
     },
     "execution_count": 25,
     "metadata": {},
     "output_type": "execute_result"
    }
   ],
   "source": [
    "pred_test_svm = model_svm.predict(x_test)\n",
    "met.accuracy_score(y_test,pred_test_svm)"
   ]
  },
  {
   "cell_type": "markdown",
   "metadata": {},
   "source": [
    "<font color=red size=5>\n",
    "RandomForest Model\n",
    "</font>"
   ]
  },
  {
   "cell_type": "code",
   "execution_count": 26,
   "metadata": {},
   "outputs": [],
   "source": [
    "from sklearn.ensemble import RandomForestClassifier"
   ]
  },
  {
   "cell_type": "code",
   "execution_count": 27,
   "metadata": {},
   "outputs": [],
   "source": [
    "model_RF = RandomForestClassifier(n_estimators=100 ,criterion = \"entropy\", bootstrap= False)"
   ]
  },
  {
   "cell_type": "code",
   "execution_count": 28,
   "metadata": {},
   "outputs": [
    {
     "data": {
      "text/plain": [
       "RandomForestClassifier(bootstrap=False, class_weight=None, criterion='entropy',\n",
       "                       max_depth=None, max_features='auto', max_leaf_nodes=None,\n",
       "                       min_impurity_decrease=0.0, min_impurity_split=None,\n",
       "                       min_samples_leaf=1, min_samples_split=2,\n",
       "                       min_weight_fraction_leaf=0.0, n_estimators=100,\n",
       "                       n_jobs=None, oob_score=False, random_state=None,\n",
       "                       verbose=0, warm_start=False)"
      ]
     },
     "execution_count": 28,
     "metadata": {},
     "output_type": "execute_result"
    }
   ],
   "source": [
    "model_RF.fit(x_train,y_train)"
   ]
  },
  {
   "cell_type": "code",
   "execution_count": 29,
   "metadata": {},
   "outputs": [
    {
     "data": {
      "text/plain": [
       "1.0"
      ]
     },
     "execution_count": 29,
     "metadata": {},
     "output_type": "execute_result"
    }
   ],
   "source": [
    "pred_train_RF = model_RF.predict(x_train)\n",
    "met.accuracy_score(y_train,pred_train_RF)"
   ]
  },
  {
   "cell_type": "code",
   "execution_count": 30,
   "metadata": {},
   "outputs": [
    {
     "data": {
      "text/plain": [
       "0.5185185185185185"
      ]
     },
     "execution_count": 30,
     "metadata": {},
     "output_type": "execute_result"
    }
   ],
   "source": [
    "pred_test_RF = model_RF.predict(x_test)\n",
    "met.accuracy_score(y_test,pred_test_RF)"
   ]
  },
  {
   "cell_type": "markdown",
   "metadata": {},
   "source": [
    "<font color=red size=5>\n",
    "KNN Model\n",
    "</font>"
   ]
  },
  {
   "cell_type": "code",
   "execution_count": 31,
   "metadata": {},
   "outputs": [],
   "source": [
    "from sklearn.neighbors import KNeighborsClassifier"
   ]
  },
  {
   "cell_type": "code",
   "execution_count": 32,
   "metadata": {},
   "outputs": [],
   "source": [
    "model_KNN = KNeighborsClassifier(n_neighbors=10, \n",
    "                                 weights='uniform',\n",
    "                                 algorithm='auto',\n",
    "                                 leaf_size=30, \n",
    "                                 p=2, \n",
    "                                 metric='minkowski', \n",
    "                                 metric_params=None, \n",
    "                                 n_jobs=None)"
   ]
  },
  {
   "cell_type": "code",
   "execution_count": 33,
   "metadata": {},
   "outputs": [
    {
     "data": {
      "text/plain": [
       "KNeighborsClassifier(algorithm='auto', leaf_size=30, metric='minkowski',\n",
       "                     metric_params=None, n_jobs=None, n_neighbors=10, p=2,\n",
       "                     weights='uniform')"
      ]
     },
     "execution_count": 33,
     "metadata": {},
     "output_type": "execute_result"
    }
   ],
   "source": [
    "model_KNN.fit(x_train,y_train)"
   ]
  },
  {
   "cell_type": "code",
   "execution_count": 34,
   "metadata": {},
   "outputs": [
    {
     "data": {
      "text/plain": [
       "0.8379987333755542"
      ]
     },
     "execution_count": 34,
     "metadata": {},
     "output_type": "execute_result"
    }
   ],
   "source": [
    "pred_train_KNN = model_KNN.predict(x_train)\n",
    "met.accuracy_score(y_train,pred_train_KNN)"
   ]
  },
  {
   "cell_type": "code",
   "execution_count": 35,
   "metadata": {},
   "outputs": [
    {
     "data": {
      "text/plain": [
       "0.3906810035842294"
      ]
     },
     "execution_count": 35,
     "metadata": {},
     "output_type": "execute_result"
    }
   ],
   "source": [
    "pred_test_KNN = model_KNN.predict(x_test)\n",
    "met.accuracy_score(y_test,pred_test_KNN)"
   ]
  },
  {
   "cell_type": "markdown",
   "metadata": {},
   "source": [
    "<font color=red size=5>\n",
    "KNN Model\n",
    "</font>"
   ]
  },
  {
   "cell_type": "code",
   "execution_count": null,
   "metadata": {},
   "outputs": [],
   "source": []
  }
 ],
 "metadata": {
  "kernelspec": {
   "display_name": "Python 3",
   "language": "python",
   "name": "python3"
  },
  "language_info": {
   "codemirror_mode": {
    "name": "ipython",
    "version": 3
   },
   "file_extension": ".py",
   "mimetype": "text/x-python",
   "name": "python",
   "nbconvert_exporter": "python",
   "pygments_lexer": "ipython3",
   "version": "3.7.3"
  }
 },
 "nbformat": 4,
 "nbformat_minor": 2
}
